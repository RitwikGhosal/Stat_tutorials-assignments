{
 "cells": [
  {
   "cell_type": "code",
   "execution_count": 1,
   "id": "b1bb8496",
   "metadata": {},
   "outputs": [],
   "source": [
    "import pandas as pd\n",
    "import numpy as np\n",
    "import matplotlib.pyplot as plt"
   ]
  },
  {
   "cell_type": "code",
   "execution_count": 50,
   "id": "b33a3885",
   "metadata": {},
   "outputs": [],
   "source": [
    "def mean_function(data):\n",
    "    c = 0\n",
    "    m = 0\n",
    "    for i in data:\n",
    "        c = c+i\n",
    "        m = c/len(data)        \n",
    "    return m"
   ]
  },
  {
   "cell_type": "markdown",
   "id": "484ad323",
   "metadata": {},
   "source": [
    "### question 1"
   ]
  },
  {
   "cell_type": "code",
   "execution_count": 47,
   "id": "b1cd0cb9",
   "metadata": {},
   "outputs": [
    {
     "name": "stdout",
     "output_type": "stream",
     "text": [
      "The mean of the first 10 columns is  [24.06216168091163, 23.770263532763526, 23.068304843304833, 22.366346153846163, 22.22849002849001, 23.484829059829064, 22.906695156695157, 21.53012820512821, 20.153561253561254, 19.882300569800563]\n",
      "The maximum mean tenperature is 24.06216168091163\n"
     ]
    }
   ],
   "source": [
    "df = pd.read_csv('NWH_temp_data_25_1901_2017_cru_data.csv')\n",
    "columns = list(df.columns)\n",
    "col_ten = [] # To get the column names for first ten columns\n",
    "for i in range(10):\n",
    "    col_ten.append(columns[i])\n",
    "    \n",
    "mean_of_ten = [] # To store the mean of the first 10 columns\n",
    "for j in colt:\n",
    "    mean_of_ten.append(mean_function(df[j]))\n",
    "\n",
    "print('The mean of the first 10 columns is ', mean_of_ten)\n",
    "d = max(mean_of_ten)\n",
    "\n",
    "#m = max(mean_of_ten)\n",
    "print('The maximum mean tenperature is {}'.format(d))"
   ]
  },
  {
   "cell_type": "markdown",
   "id": "041bdb4c",
   "metadata": {},
   "source": [
    "### question 2"
   ]
  },
  {
   "cell_type": "code",
   "execution_count": 68,
   "id": "5f3f24b4",
   "metadata": {},
   "outputs": [
    {
     "data": {
      "text/plain": [
       "<matplotlib.collections.PathCollection at 0x135281ea190>"
      ]
     },
     "execution_count": 68,
     "metadata": {},
     "output_type": "execute_result"
    },
    {
     "data": {
      "image/png": "[encoded data removed]",
      "text/plain": [
       "<Figure size 432x288 with 1 Axes>"
      ]
     },
     "metadata": {
      "needs_background": "light"
     },
     "output_type": "display_data"
    }
   ],
   "source": [
    "# Q2\n",
    "\n",
    "con = [] # The years column\n",
    "for p in range(1901,2018):\n",
    "    con.append(p)\n",
    "con2 = list(np.repeat(con,12))\n",
    "#df.insert(0, 'Year1', con2) # Year column has been added to the df\n",
    "\n",
    "df2 = df.groupby('Year1')[col].mean() # To get the annual mean\n",
    "yrs = np.arange(1901,2018)\n",
    "\n",
    "plt.scatter(yrs, df2['X7929'])\n",
    "#df2"
   ]
  },
  {
   "cell_type": "markdown",
   "id": "debd752c",
   "metadata": {},
   "source": [
    "### question 3"
   ]
  },
  {
   "cell_type": "code",
   "execution_count": 69,
   "id": "8db6055a",
   "metadata": {},
   "outputs": [
    {
     "name": "stdout",
     "output_type": "stream",
     "text": [
      "The temperature of hottest month for each year is [33.775, 31.75, 33.025, 31.875, 32.775, 33.325, 32.275, 33.275, 31.375, 31.15, 32.725, 32.175, 29.625, 31.025, 32.475, 31.85, 30.225, 32.25, 31.95, 30.375, 34.2, 32.75, 33.925, 34.575, 31.175, 33.725, 31.95, 32.725, 32.675, 31.4, 33.25, 33.325, 30.875, 31.25, 33.175, 31.85, 31.775, 32.05, 33.0, 32.25, 32.25, 33.15, 32.1, 33.575, 32.875, 31.55, 33.3, 33.625, 32.85, 31.85, 32.0, 31.8, 32.875, 33.525, 32.5, 32.6, 31.225, 32.875, 32.325, 32.75, 31.475, 32.65, 31.4, 32.7, 33.75, 32.1, 32.725, 31.45, 32.575, 31.675, 29.625, 33.05, 31.6, 31.05, 32.225, 30.25, 30.525, 33.45, 31.725, 33.325, 32.125, 31.425, 30.75, 33.45, 31.675, 31.025, 32.925, 32.4, 31.0, 31.925, 31.15, 31.25, 32.175, 32.1, 33.1, 33.525, 29.975, 32.625, 31.0, 31.175, 30.75, 32.75, 33.175, 31.725, 33.15, 31.15, 32.2, 30.225, 32.65, 32.575, 31.55, 34.65, 32.4, 33.475, 32.225, 32.2, 31.475]\n"
     ]
    }
   ],
   "source": [
    "df3 = df.groupby('Year1')[col].max()\n",
    "max_temp = []\n",
    "for i in df3['X7929']:\n",
    "  max_temp.append(i)\n",
    "\n",
    "print('The temperature of hottest month for each year is', max_temp)"
   ]
  },
  {
   "cell_type": "markdown",
   "id": "f466a835",
   "metadata": {},
   "source": [
    "### question 6"
   ]
  },
  {
   "cell_type": "code",
   "execution_count": 79,
   "id": "ad35aec4",
   "metadata": {},
   "outputs": [
    {
     "name": "stderr",
     "output_type": "stream",
     "text": [
      "WARNING: Retrying (Retry(total=4, connect=None, read=None, redirect=None, status=None)) after connection broken by 'ProxyError('Your proxy appears to only use HTTP and not HTTPS, try changing your proxy URL to be HTTP. See: https://urllib3.readthedocs.io/en/1.26.x/advanced-usage.html#https-proxy-error-http-proxy', SSLError(SSLError(1, '[SSL: WRONG_VERSION_NUMBER] wrong version number (_ssl.c:1129)')))': /simple/geopandas/\n",
      "WARNING: Retrying (Retry(total=3, connect=None, read=None, redirect=None, status=None)) after connection broken by 'ProxyError('Your proxy appears to only use HTTP and not HTTPS, try changing your proxy URL to be HTTP. See: https://urllib3.readthedocs.io/en/1.26.x/advanced-usage.html#https-proxy-error-http-proxy', SSLError(SSLError(1, '[SSL: WRONG_VERSION_NUMBER] wrong version number (_ssl.c:1129)')))': /simple/geopandas/\n",
      "WARNING: Retrying (Retry(total=2, connect=None, read=None, redirect=None, status=None)) after connection broken by 'ProxyError('Your proxy appears to only use HTTP and not HTTPS, try changing your proxy URL to be HTTP. See: https://urllib3.readthedocs.io/en/1.26.x/advanced-usage.html#https-proxy-error-http-proxy', SSLError(SSLError(1, '[SSL: WRONG_VERSION_NUMBER] wrong version number (_ssl.c:1129)')))': /simple/geopandas/\n",
      "WARNING: Retrying (Retry(total=1, connect=None, read=None, redirect=None, status=None)) after connection broken by 'ProxyError('Your proxy appears to only use HTTP and not HTTPS, try changing your proxy URL to be HTTP. See: https://urllib3.readthedocs.io/en/1.26.x/advanced-usage.html#https-proxy-error-http-proxy', SSLError(SSLError(1, '[SSL: WRONG_VERSION_NUMBER] wrong version number (_ssl.c:1129)')))': /simple/geopandas/\n",
      "WARNING: Retrying (Retry(total=0, connect=None, read=None, redirect=None, status=None)) after connection broken by 'ProxyError('Your proxy appears to only use HTTP and not HTTPS, try changing your proxy URL to be HTTP. See: https://urllib3.readthedocs.io/en/1.26.x/advanced-usage.html#https-proxy-error-http-proxy', SSLError(SSLError(1, '[SSL: WRONG_VERSION_NUMBER] wrong version number (_ssl.c:1129)')))': /simple/geopandas/\n",
      "ERROR: Could not find a version that satisfies the requirement geopandas (from versions: none)\n",
      "ERROR: No matching distribution found for geopandas\n",
      "WARNING: There was an error checking the latest version of pip.\n"
     ]
    }
   ],
   "source": [
    "!pip install geopandas"
   ]
  },
  {
   "cell_type": "code",
   "execution_count": null,
   "id": "99875d39",
   "metadata": {},
   "outputs": [],
   "source": []
  },
  {
   "cell_type": "code",
   "execution_count": null,
   "id": "c79a247f",
   "metadata": {},
   "outputs": [],
   "source": []
  }
 ],
 "metadata": {
  "kernelspec": {
   "display_name": "Python 3 (ipykernel)",
   "language": "python",
   "name": "python3"
  },
  "language_info": {
   "codemirror_mode": {
    "name": "ipython",
    "version": 3
   },
   "file_extension": ".py",
   "mimetype": "text/x-python",
   "name": "python",
   "nbconvert_exporter": "python",
   "pygments_lexer": "ipython3",
   "version": "3.9.6"
  }
 },
 "nbformat": 4,
 "nbformat_minor": 5
}
